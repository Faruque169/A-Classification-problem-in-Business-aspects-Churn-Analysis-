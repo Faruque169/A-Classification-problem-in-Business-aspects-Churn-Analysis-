{
 "cells": [
  {
   "cell_type": "code",
   "execution_count": 32,
   "id": "bright-judge",
   "metadata": {},
   "outputs": [],
   "source": [
    "# dependenicies \n",
    "import pandas as pd\n",
    "import numpy as np\n",
    "\n",
    "#for vif\n",
    "from statsmodels.stats.outliers_influence import variance_inflation_factor\n",
    "\n",
    "# for data processing\n",
    "from sklearn.model_selection import train_test_split\n",
    "from sklearn.preprocessing import StandardScaler\n",
    "\n",
    "# sklearn modules for Model Selection:\n",
    "from sklearn.linear_model import LogisticRegression\n",
    "from sklearn import model_selection\n",
    "\n",
    "# for model building\n",
    "import xgboost as xgb\n",
    "from xgboost import plot_importance\n",
    "from sklearn.metrics import classification_report\n",
    "\n",
    "#for viz\n",
    "import matplotlib.pyplot as plt\n",
    "import matplotlib.ticker as mtick\n",
    "import seaborn as sns\n",
    "sns.set()"
   ]
  },
  {
   "cell_type": "code",
   "execution_count": 33,
   "id": "beneficial-morocco",
   "metadata": {},
   "outputs": [
    {
     "name": "stdout",
     "output_type": "stream",
     "text": [
      "pandas- 1.2.3\n",
      "numpy- 1.19.2\n",
      "seaborn- 0.11.1\n",
      "xgboost- 1.4.2\n"
     ]
    }
   ],
   "source": [
    "# Version Control\n",
    "print('pandas-',pd.__version__)\n",
    "print('numpy-',np.__version__)\n",
    "print('seaborn-',sns.__version__)\n",
    "print('xgboost-',xgb.__version__)"
   ]
  },
  {
   "cell_type": "code",
   "execution_count": 3,
   "id": "wrong-variety",
   "metadata": {},
   "outputs": [
    {
     "name": "stderr",
     "output_type": "stream",
     "text": [
      "<ipython-input-3-69d570a162b8>:2: FutureWarning: The pandas.datetime class is deprecated and will be removed from pandas in a future version. Import from datetime module instead.\n",
      "  d_parser = lambda x: pd.datetime.strptime(x, '%Y-%m-%d') # for creating date_parser\n"
     ]
    }
   ],
   "source": [
    "# Read Dataset\n",
    "d_parser = lambda x: pd.datetime.strptime(x, '%Y-%m-%d') # for creating date_parser\n",
    "\n",
    "activity = pd.read_csv('activity.csv', parse_dates=['date'], date_parser = d_parser)\n",
    "target = pd.read_csv('target.csv', parse_dates=['date'], date_parser = d_parser)"
   ]
  },
  {
   "cell_type": "markdown",
   "id": "linear-phenomenon",
   "metadata": {},
   "source": [
    "# Section A : Data Processing"
   ]
  },
  {
   "cell_type": "code",
   "execution_count": 4,
   "id": "major-summary",
   "metadata": {},
   "outputs": [
    {
     "name": "stdout",
     "output_type": "stream",
     "text": [
      "activity dataset info-\n",
      "<class 'pandas.core.frame.DataFrame'>\n",
      "RangeIndex: 904772 entries, 0 to 904771\n",
      "Data columns (total 4 columns):\n",
      " #   Column          Non-Null Count   Dtype         \n",
      "---  ------          --------------   -----         \n",
      " 0   date            904772 non-null  datetime64[ns]\n",
      " 1   customer        904772 non-null  object        \n",
      " 2   activity_type   904772 non-null  object        \n",
      " 3   activity_count  904772 non-null  int64         \n",
      "dtypes: datetime64[ns](1), int64(1), object(2)\n",
      "memory usage: 27.6+ MB\n",
      "\n",
      "target dataset info-\n",
      "<class 'pandas.core.frame.DataFrame'>\n",
      "RangeIndex: 4356 entries, 0 to 4355\n",
      "Data columns (total 2 columns):\n",
      " #   Column    Non-Null Count  Dtype         \n",
      "---  ------    --------------  -----         \n",
      " 0   customer  4356 non-null   object        \n",
      " 1   date      4356 non-null   datetime64[ns]\n",
      "dtypes: datetime64[ns](1), object(1)\n",
      "memory usage: 68.2+ KB\n"
     ]
    }
   ],
   "source": [
    "# check datatype and memory info\n",
    "print('activity dataset info-')\n",
    "activity.info()\n",
    "print('\\n'+'target dataset info-')\n",
    "target.info()"
   ]
  },
  {
   "cell_type": "markdown",
   "id": "ceramic-cedar",
   "metadata": {},
   "source": [
    "#### Comment: \n",
    "<br>Shows there is no null values in the datasets"
   ]
  },
  {
   "cell_type": "code",
   "execution_count": 5,
   "id": "stable-personality",
   "metadata": {},
   "outputs": [
    {
     "name": "stdout",
     "output_type": "stream",
     "text": [
      "The datset shows the duration is in between  2020-09-01 to 2021-05-23\n"
     ]
    }
   ],
   "source": [
    "print('The datset shows the duration is in between ', activity.date.min().date(), \"to\" ,activity.date.max().date())"
   ]
  },
  {
   "cell_type": "code",
   "execution_count": 6,
   "id": "fixed-firmware",
   "metadata": {},
   "outputs": [],
   "source": [
    "# process datasets to Merge activity and target dataset\n",
    "def process_data(activity,target):\n",
    "    target = target.rename(columns = {'date': 'close_date'}, inplace = False) # reaname date in target datset into close_date \n",
    "    \n",
    "    # create a pivot table to groupby customer with their activiyt types and accumulate (sum) activity_count with \n",
    "    # opening_date of the type \n",
    "    activity = activity.pivot_table(index=['customer','activity_type'],values=['activity_count','date'],\n",
    "                      aggfunc={'activity_count': np.sum,\n",
    "                               'date': min}).reset_index()\n",
    "    activity = activity.rename(columns = {'date': 'opening_date'}, inplace = False)\n",
    "    dataset = activity.merge(target, on='customer', how='left') # merge activity and target datset\n",
    "    dataset['close_deals?'] = dataset.close_date.fillna(0).apply(lambda x: 0 if x == 0  else 1) # with value 1 indicates closing the deal\n",
    "    \n",
    "    \n",
    "    dataset['close_date'] = pd.to_datetime(dataset['close_date'], format='%Y-%m-%d')# converting into datetime format\n",
    "    \n",
    "    \n",
    "    # to create a new column to know how long the deals with the customeris active till the last date '2021-05-23'\n",
    "    # for closed deals days_active will be the interval between the date and close_date \n",
    "    dataset['days_active_1'] = (dataset['close_date'] - dataset['opening_date']).dt.days.fillna(0).astype(int)\n",
    "    dataset['days_active_0'] = (pd.to_datetime('2021-05-23') - dataset.opening_date).dt.days.astype(int)\n",
    "    dataset['days_active'] = (dataset['days_active_0'] * (1-dataset['close_deals?']) - dataset['days_active_1']).abs()\n",
    "    dataset = dataset.drop(['days_active_1', 'days_active_0'], axis=1)\n",
    "    return dataset"
   ]
  },
  {
   "cell_type": "code",
   "execution_count": 7,
   "id": "prescribed-eating",
   "metadata": {},
   "outputs": [],
   "source": [
    "processed = process_data(activity,target)"
   ]
  },
  {
   "cell_type": "code",
   "execution_count": 8,
   "id": "western-worship",
   "metadata": {},
   "outputs": [
    {
     "data": {
      "text/html": [
       "<div>\n",
       "<style scoped>\n",
       "    .dataframe tbody tr th:only-of-type {\n",
       "        vertical-align: middle;\n",
       "    }\n",
       "\n",
       "    .dataframe tbody tr th {\n",
       "        vertical-align: top;\n",
       "    }\n",
       "\n",
       "    .dataframe thead th {\n",
       "        text-align: right;\n",
       "    }\n",
       "</style>\n",
       "<table border=\"1\" class=\"dataframe\">\n",
       "  <thead>\n",
       "    <tr style=\"text-align: right;\">\n",
       "      <th></th>\n",
       "      <th>customer</th>\n",
       "      <th>activity_type</th>\n",
       "      <th>activity_count</th>\n",
       "      <th>opening_date</th>\n",
       "      <th>close_date</th>\n",
       "      <th>close_deals?</th>\n",
       "      <th>days_active</th>\n",
       "    </tr>\n",
       "  </thead>\n",
       "  <tbody>\n",
       "    <tr>\n",
       "      <th>0</th>\n",
       "      <td>0030o00002nkSmtAAE</td>\n",
       "      <td>b</td>\n",
       "      <td>1</td>\n",
       "      <td>2020-11-24</td>\n",
       "      <td>NaT</td>\n",
       "      <td>0</td>\n",
       "      <td>180</td>\n",
       "    </tr>\n",
       "    <tr>\n",
       "      <th>1</th>\n",
       "      <td>0030o00002nkSmuAAE</td>\n",
       "      <td>b</td>\n",
       "      <td>1</td>\n",
       "      <td>2020-12-09</td>\n",
       "      <td>NaT</td>\n",
       "      <td>0</td>\n",
       "      <td>165</td>\n",
       "    </tr>\n",
       "    <tr>\n",
       "      <th>2</th>\n",
       "      <td>0030o00002nkSmuAAE</td>\n",
       "      <td>j</td>\n",
       "      <td>2</td>\n",
       "      <td>2020-09-11</td>\n",
       "      <td>NaT</td>\n",
       "      <td>0</td>\n",
       "      <td>254</td>\n",
       "    </tr>\n",
       "    <tr>\n",
       "      <th>3</th>\n",
       "      <td>0030o00002nkSnHAAU</td>\n",
       "      <td>m</td>\n",
       "      <td>2</td>\n",
       "      <td>2021-01-08</td>\n",
       "      <td>NaT</td>\n",
       "      <td>0</td>\n",
       "      <td>135</td>\n",
       "    </tr>\n",
       "    <tr>\n",
       "      <th>4</th>\n",
       "      <td>0030o00002nkSnHAAU</td>\n",
       "      <td>v</td>\n",
       "      <td>9</td>\n",
       "      <td>2020-12-25</td>\n",
       "      <td>NaT</td>\n",
       "      <td>0</td>\n",
       "      <td>149</td>\n",
       "    </tr>\n",
       "    <tr>\n",
       "      <th>5</th>\n",
       "      <td>0030o00002nkSnIAAU</td>\n",
       "      <td>a</td>\n",
       "      <td>4</td>\n",
       "      <td>2020-09-03</td>\n",
       "      <td>NaT</td>\n",
       "      <td>0</td>\n",
       "      <td>262</td>\n",
       "    </tr>\n",
       "    <tr>\n",
       "      <th>6</th>\n",
       "      <td>0030o00002nkSnfAAE</td>\n",
       "      <td>h</td>\n",
       "      <td>1</td>\n",
       "      <td>2020-11-20</td>\n",
       "      <td>2020-11-25</td>\n",
       "      <td>1</td>\n",
       "      <td>5</td>\n",
       "    </tr>\n",
       "    <tr>\n",
       "      <th>7</th>\n",
       "      <td>0030o00002nkSnfAAE</td>\n",
       "      <td>i</td>\n",
       "      <td>2</td>\n",
       "      <td>2020-11-21</td>\n",
       "      <td>2020-11-25</td>\n",
       "      <td>1</td>\n",
       "      <td>4</td>\n",
       "    </tr>\n",
       "    <tr>\n",
       "      <th>8</th>\n",
       "      <td>0030o00002nkSnfAAE</td>\n",
       "      <td>l</td>\n",
       "      <td>6</td>\n",
       "      <td>2020-11-21</td>\n",
       "      <td>2020-11-25</td>\n",
       "      <td>1</td>\n",
       "      <td>4</td>\n",
       "    </tr>\n",
       "    <tr>\n",
       "      <th>9</th>\n",
       "      <td>0030o00002nkSnfAAE</td>\n",
       "      <td>m</td>\n",
       "      <td>6</td>\n",
       "      <td>2020-11-20</td>\n",
       "      <td>2020-11-25</td>\n",
       "      <td>1</td>\n",
       "      <td>5</td>\n",
       "    </tr>\n",
       "  </tbody>\n",
       "</table>\n",
       "</div>"
      ],
      "text/plain": [
       "             customer activity_type  activity_count opening_date close_date  \\\n",
       "0  0030o00002nkSmtAAE             b               1   2020-11-24        NaT   \n",
       "1  0030o00002nkSmuAAE             b               1   2020-12-09        NaT   \n",
       "2  0030o00002nkSmuAAE             j               2   2020-09-11        NaT   \n",
       "3  0030o00002nkSnHAAU             m               2   2021-01-08        NaT   \n",
       "4  0030o00002nkSnHAAU             v               9   2020-12-25        NaT   \n",
       "5  0030o00002nkSnIAAU             a               4   2020-09-03        NaT   \n",
       "6  0030o00002nkSnfAAE             h               1   2020-11-20 2020-11-25   \n",
       "7  0030o00002nkSnfAAE             i               2   2020-11-21 2020-11-25   \n",
       "8  0030o00002nkSnfAAE             l               6   2020-11-21 2020-11-25   \n",
       "9  0030o00002nkSnfAAE             m               6   2020-11-20 2020-11-25   \n",
       "\n",
       "   close_deals?  days_active  \n",
       "0             0          180  \n",
       "1             0          165  \n",
       "2             0          254  \n",
       "3             0          135  \n",
       "4             0          149  \n",
       "5             0          262  \n",
       "6             1            5  \n",
       "7             1            4  \n",
       "8             1            4  \n",
       "9             1            5  "
      ]
     },
     "execution_count": 8,
     "metadata": {},
     "output_type": "execute_result"
    }
   ],
   "source": [
    "processed.head(10)"
   ]
  },
  {
   "cell_type": "code",
   "execution_count": 9,
   "id": "manual-explosion",
   "metadata": {},
   "outputs": [
    {
     "data": {
      "text/plain": [
       "(357785, 7)"
      ]
     },
     "execution_count": 9,
     "metadata": {},
     "output_type": "execute_result"
    }
   ],
   "source": [
    "processed.shape"
   ]
  },
  {
   "cell_type": "code",
   "execution_count": 10,
   "id": "efficient-lloyd",
   "metadata": {},
   "outputs": [
    {
     "name": "stdout",
     "output_type": "stream",
     "text": [
      "<class 'pandas.core.frame.DataFrame'>\n",
      "Int64Index: 357785 entries, 0 to 357784\n",
      "Data columns (total 7 columns):\n",
      " #   Column          Non-Null Count   Dtype         \n",
      "---  ------          --------------   -----         \n",
      " 0   customer        357785 non-null  object        \n",
      " 1   activity_type   357785 non-null  object        \n",
      " 2   activity_count  357785 non-null  int64         \n",
      " 3   opening_date    357785 non-null  datetime64[ns]\n",
      " 4   close_date      26317 non-null   datetime64[ns]\n",
      " 5   close_deals?    357785 non-null  int64         \n",
      " 6   days_active     357785 non-null  int64         \n",
      "dtypes: datetime64[ns](2), int64(3), object(2)\n",
      "memory usage: 21.8+ MB\n"
     ]
    }
   ],
   "source": [
    "processed.info()"
   ]
  },
  {
   "cell_type": "code",
   "execution_count": 11,
   "id": "collectible-split",
   "metadata": {},
   "outputs": [
    {
     "name": "stderr",
     "output_type": "stream",
     "text": [
      "<ipython-input-11-44af56d6c5ba>:1: FutureWarning: Treating datetime data as categorical rather than numeric in `.describe` is deprecated and will be removed in a future version of pandas. Specify `datetime_is_numeric=True` to silence this warning and adopt the future behavior now.\n",
      "  processed.describe(include='all')\n",
      "<ipython-input-11-44af56d6c5ba>:1: FutureWarning: Treating datetime data as categorical rather than numeric in `.describe` is deprecated and will be removed in a future version of pandas. Specify `datetime_is_numeric=True` to silence this warning and adopt the future behavior now.\n",
      "  processed.describe(include='all')\n"
     ]
    },
    {
     "data": {
      "text/html": [
       "<div>\n",
       "<style scoped>\n",
       "    .dataframe tbody tr th:only-of-type {\n",
       "        vertical-align: middle;\n",
       "    }\n",
       "\n",
       "    .dataframe tbody tr th {\n",
       "        vertical-align: top;\n",
       "    }\n",
       "\n",
       "    .dataframe thead th {\n",
       "        text-align: right;\n",
       "    }\n",
       "</style>\n",
       "<table border=\"1\" class=\"dataframe\">\n",
       "  <thead>\n",
       "    <tr style=\"text-align: right;\">\n",
       "      <th></th>\n",
       "      <th>customer</th>\n",
       "      <th>activity_type</th>\n",
       "      <th>activity_count</th>\n",
       "      <th>opening_date</th>\n",
       "      <th>close_date</th>\n",
       "      <th>close_deals?</th>\n",
       "      <th>days_active</th>\n",
       "    </tr>\n",
       "  </thead>\n",
       "  <tbody>\n",
       "    <tr>\n",
       "      <th>count</th>\n",
       "      <td>357785</td>\n",
       "      <td>357785</td>\n",
       "      <td>357785.000000</td>\n",
       "      <td>357785</td>\n",
       "      <td>26317</td>\n",
       "      <td>357785.000000</td>\n",
       "      <td>357785.000000</td>\n",
       "    </tr>\n",
       "    <tr>\n",
       "      <th>unique</th>\n",
       "      <td>139556</td>\n",
       "      <td>25</td>\n",
       "      <td>NaN</td>\n",
       "      <td>264</td>\n",
       "      <td>185</td>\n",
       "      <td>NaN</td>\n",
       "      <td>NaN</td>\n",
       "    </tr>\n",
       "    <tr>\n",
       "      <th>top</th>\n",
       "      <td>0032j000008mwf2AAA</td>\n",
       "      <td>x</td>\n",
       "      <td>NaN</td>\n",
       "      <td>2021-02-16 00:00:00</td>\n",
       "      <td>2021-02-24 00:00:00</td>\n",
       "      <td>NaN</td>\n",
       "      <td>NaN</td>\n",
       "    </tr>\n",
       "    <tr>\n",
       "      <th>freq</th>\n",
       "      <td>18</td>\n",
       "      <td>51618</td>\n",
       "      <td>NaN</td>\n",
       "      <td>5576</td>\n",
       "      <td>324</td>\n",
       "      <td>NaN</td>\n",
       "      <td>NaN</td>\n",
       "    </tr>\n",
       "    <tr>\n",
       "      <th>first</th>\n",
       "      <td>NaN</td>\n",
       "      <td>NaN</td>\n",
       "      <td>NaN</td>\n",
       "      <td>2020-09-01 00:00:00</td>\n",
       "      <td>2020-11-01 00:00:00</td>\n",
       "      <td>NaN</td>\n",
       "      <td>NaN</td>\n",
       "    </tr>\n",
       "    <tr>\n",
       "      <th>last</th>\n",
       "      <td>NaN</td>\n",
       "      <td>NaN</td>\n",
       "      <td>NaN</td>\n",
       "      <td>2021-05-22 00:00:00</td>\n",
       "      <td>2021-05-22 00:00:00</td>\n",
       "      <td>NaN</td>\n",
       "      <td>NaN</td>\n",
       "    </tr>\n",
       "    <tr>\n",
       "      <th>mean</th>\n",
       "      <td>NaN</td>\n",
       "      <td>NaN</td>\n",
       "      <td>2.528815</td>\n",
       "      <td>NaN</td>\n",
       "      <td>NaN</td>\n",
       "      <td>0.073555</td>\n",
       "      <td>129.196529</td>\n",
       "    </tr>\n",
       "    <tr>\n",
       "      <th>std</th>\n",
       "      <td>NaN</td>\n",
       "      <td>NaN</td>\n",
       "      <td>6.490083</td>\n",
       "      <td>NaN</td>\n",
       "      <td>NaN</td>\n",
       "      <td>0.261046</td>\n",
       "      <td>75.112454</td>\n",
       "    </tr>\n",
       "    <tr>\n",
       "      <th>min</th>\n",
       "      <td>NaN</td>\n",
       "      <td>NaN</td>\n",
       "      <td>1.000000</td>\n",
       "      <td>NaN</td>\n",
       "      <td>NaN</td>\n",
       "      <td>0.000000</td>\n",
       "      <td>0.000000</td>\n",
       "    </tr>\n",
       "    <tr>\n",
       "      <th>25%</th>\n",
       "      <td>NaN</td>\n",
       "      <td>NaN</td>\n",
       "      <td>1.000000</td>\n",
       "      <td>NaN</td>\n",
       "      <td>NaN</td>\n",
       "      <td>0.000000</td>\n",
       "      <td>69.000000</td>\n",
       "    </tr>\n",
       "    <tr>\n",
       "      <th>50%</th>\n",
       "      <td>NaN</td>\n",
       "      <td>NaN</td>\n",
       "      <td>1.000000</td>\n",
       "      <td>NaN</td>\n",
       "      <td>NaN</td>\n",
       "      <td>0.000000</td>\n",
       "      <td>117.000000</td>\n",
       "    </tr>\n",
       "    <tr>\n",
       "      <th>75%</th>\n",
       "      <td>NaN</td>\n",
       "      <td>NaN</td>\n",
       "      <td>2.000000</td>\n",
       "      <td>NaN</td>\n",
       "      <td>NaN</td>\n",
       "      <td>0.000000</td>\n",
       "      <td>194.000000</td>\n",
       "    </tr>\n",
       "    <tr>\n",
       "      <th>max</th>\n",
       "      <td>NaN</td>\n",
       "      <td>NaN</td>\n",
       "      <td>628.000000</td>\n",
       "      <td>NaN</td>\n",
       "      <td>NaN</td>\n",
       "      <td>1.000000</td>\n",
       "      <td>264.000000</td>\n",
       "    </tr>\n",
       "  </tbody>\n",
       "</table>\n",
       "</div>"
      ],
      "text/plain": [
       "                  customer activity_type  activity_count         opening_date  \\\n",
       "count               357785        357785   357785.000000               357785   \n",
       "unique              139556            25             NaN                  264   \n",
       "top     0032j000008mwf2AAA             x             NaN  2021-02-16 00:00:00   \n",
       "freq                    18         51618             NaN                 5576   \n",
       "first                  NaN           NaN             NaN  2020-09-01 00:00:00   \n",
       "last                   NaN           NaN             NaN  2021-05-22 00:00:00   \n",
       "mean                   NaN           NaN        2.528815                  NaN   \n",
       "std                    NaN           NaN        6.490083                  NaN   \n",
       "min                    NaN           NaN        1.000000                  NaN   \n",
       "25%                    NaN           NaN        1.000000                  NaN   \n",
       "50%                    NaN           NaN        1.000000                  NaN   \n",
       "75%                    NaN           NaN        2.000000                  NaN   \n",
       "max                    NaN           NaN      628.000000                  NaN   \n",
       "\n",
       "                 close_date   close_deals?    days_active  \n",
       "count                 26317  357785.000000  357785.000000  \n",
       "unique                  185            NaN            NaN  \n",
       "top     2021-02-24 00:00:00            NaN            NaN  \n",
       "freq                    324            NaN            NaN  \n",
       "first   2020-11-01 00:00:00            NaN            NaN  \n",
       "last    2021-05-22 00:00:00            NaN            NaN  \n",
       "mean                    NaN       0.073555     129.196529  \n",
       "std                     NaN       0.261046      75.112454  \n",
       "min                     NaN       0.000000       0.000000  \n",
       "25%                     NaN       0.000000      69.000000  \n",
       "50%                     NaN       0.000000     117.000000  \n",
       "75%                     NaN       0.000000     194.000000  \n",
       "max                     NaN       1.000000     264.000000  "
      ]
     },
     "execution_count": 11,
     "metadata": {},
     "output_type": "execute_result"
    }
   ],
   "source": [
    "processed.describe(include='all')"
   ]
  },
  {
   "cell_type": "markdown",
   "id": "weird-registrar",
   "metadata": {},
   "source": [
    "#### This concludes the following decision-\n",
    "<br> 1. occurances of 265 days is found from the dataset with maximum frequency 5576 (with similar activity_type) in between 2020-09-01 to 2021-05-23\n",
    "<br> 2. shows total of 1,39,556 unique customer id with 25 different activity_type where 'x' is the highest (51,618 times). \n",
    "<br> 3. we have 1,02,285 records with  4356 unique customer id who closes the deals within the date frame. "
   ]
  },
  {
   "cell_type": "code",
   "execution_count": 12,
   "id": "rocky-provision",
   "metadata": {},
   "outputs": [
    {
     "data": {
      "text/plain": [
       "0    331468\n",
       "1     26317\n",
       "Name: close_deals?, dtype: int64"
      ]
     },
     "execution_count": 12,
     "metadata": {},
     "output_type": "execute_result"
    }
   ],
   "source": [
    "# Check target variable distribution:\n",
    "processed['close_deals?'].value_counts()"
   ]
  },
  {
   "cell_type": "markdown",
   "id": "dried-variety",
   "metadata": {},
   "source": [
    "### Comments-\n",
    "As you can see below, the processed dataset is imbalanced with a high proportion of active customers compared to their churned(closed deals) counterparts."
   ]
  },
  {
   "cell_type": "code",
   "execution_count": 13,
   "id": "magnetic-intent",
   "metadata": {},
   "outputs": [
    {
     "data": {
      "text/html": [
       "<div>\n",
       "<style scoped>\n",
       "    .dataframe tbody tr th:only-of-type {\n",
       "        vertical-align: middle;\n",
       "    }\n",
       "\n",
       "    .dataframe tbody tr th {\n",
       "        vertical-align: top;\n",
       "    }\n",
       "\n",
       "    .dataframe thead th {\n",
       "        text-align: right;\n",
       "    }\n",
       "</style>\n",
       "<table border=\"1\" class=\"dataframe\">\n",
       "  <thead>\n",
       "    <tr style=\"text-align: right;\">\n",
       "      <th></th>\n",
       "      <th>activity_type_a</th>\n",
       "      <th>activity_type_b</th>\n",
       "      <th>activity_type_c</th>\n",
       "      <th>activity_type_d</th>\n",
       "      <th>activity_type_e</th>\n",
       "      <th>activity_type_f</th>\n",
       "      <th>activity_type_g</th>\n",
       "      <th>activity_type_h</th>\n",
       "      <th>activity_type_i</th>\n",
       "      <th>activity_type_j</th>\n",
       "      <th>...</th>\n",
       "      <th>activity_type_t</th>\n",
       "      <th>activity_type_u</th>\n",
       "      <th>activity_type_v</th>\n",
       "      <th>activity_type_w</th>\n",
       "      <th>activity_type_x</th>\n",
       "      <th>activity_type_y</th>\n",
       "      <th>activity_count</th>\n",
       "      <th>days_active</th>\n",
       "      <th>close_deals?</th>\n",
       "      <th>customer</th>\n",
       "    </tr>\n",
       "  </thead>\n",
       "  <tbody>\n",
       "    <tr>\n",
       "      <th>0</th>\n",
       "      <td>0</td>\n",
       "      <td>1</td>\n",
       "      <td>0</td>\n",
       "      <td>0</td>\n",
       "      <td>0</td>\n",
       "      <td>0</td>\n",
       "      <td>0</td>\n",
       "      <td>0</td>\n",
       "      <td>0</td>\n",
       "      <td>0</td>\n",
       "      <td>...</td>\n",
       "      <td>0</td>\n",
       "      <td>0</td>\n",
       "      <td>0</td>\n",
       "      <td>0</td>\n",
       "      <td>0</td>\n",
       "      <td>0</td>\n",
       "      <td>1</td>\n",
       "      <td>180</td>\n",
       "      <td>0</td>\n",
       "      <td>0030o00002nkSmtAAE</td>\n",
       "    </tr>\n",
       "    <tr>\n",
       "      <th>1</th>\n",
       "      <td>0</td>\n",
       "      <td>1</td>\n",
       "      <td>0</td>\n",
       "      <td>0</td>\n",
       "      <td>0</td>\n",
       "      <td>0</td>\n",
       "      <td>0</td>\n",
       "      <td>0</td>\n",
       "      <td>0</td>\n",
       "      <td>0</td>\n",
       "      <td>...</td>\n",
       "      <td>0</td>\n",
       "      <td>0</td>\n",
       "      <td>0</td>\n",
       "      <td>0</td>\n",
       "      <td>0</td>\n",
       "      <td>0</td>\n",
       "      <td>1</td>\n",
       "      <td>165</td>\n",
       "      <td>0</td>\n",
       "      <td>0030o00002nkSmuAAE</td>\n",
       "    </tr>\n",
       "    <tr>\n",
       "      <th>2</th>\n",
       "      <td>0</td>\n",
       "      <td>0</td>\n",
       "      <td>0</td>\n",
       "      <td>0</td>\n",
       "      <td>0</td>\n",
       "      <td>0</td>\n",
       "      <td>0</td>\n",
       "      <td>0</td>\n",
       "      <td>0</td>\n",
       "      <td>1</td>\n",
       "      <td>...</td>\n",
       "      <td>0</td>\n",
       "      <td>0</td>\n",
       "      <td>0</td>\n",
       "      <td>0</td>\n",
       "      <td>0</td>\n",
       "      <td>0</td>\n",
       "      <td>2</td>\n",
       "      <td>254</td>\n",
       "      <td>0</td>\n",
       "      <td>0030o00002nkSmuAAE</td>\n",
       "    </tr>\n",
       "    <tr>\n",
       "      <th>3</th>\n",
       "      <td>0</td>\n",
       "      <td>0</td>\n",
       "      <td>0</td>\n",
       "      <td>0</td>\n",
       "      <td>0</td>\n",
       "      <td>0</td>\n",
       "      <td>0</td>\n",
       "      <td>0</td>\n",
       "      <td>0</td>\n",
       "      <td>0</td>\n",
       "      <td>...</td>\n",
       "      <td>0</td>\n",
       "      <td>0</td>\n",
       "      <td>0</td>\n",
       "      <td>0</td>\n",
       "      <td>0</td>\n",
       "      <td>0</td>\n",
       "      <td>2</td>\n",
       "      <td>135</td>\n",
       "      <td>0</td>\n",
       "      <td>0030o00002nkSnHAAU</td>\n",
       "    </tr>\n",
       "    <tr>\n",
       "      <th>4</th>\n",
       "      <td>0</td>\n",
       "      <td>0</td>\n",
       "      <td>0</td>\n",
       "      <td>0</td>\n",
       "      <td>0</td>\n",
       "      <td>0</td>\n",
       "      <td>0</td>\n",
       "      <td>0</td>\n",
       "      <td>0</td>\n",
       "      <td>0</td>\n",
       "      <td>...</td>\n",
       "      <td>0</td>\n",
       "      <td>0</td>\n",
       "      <td>1</td>\n",
       "      <td>0</td>\n",
       "      <td>0</td>\n",
       "      <td>0</td>\n",
       "      <td>9</td>\n",
       "      <td>149</td>\n",
       "      <td>0</td>\n",
       "      <td>0030o00002nkSnHAAU</td>\n",
       "    </tr>\n",
       "  </tbody>\n",
       "</table>\n",
       "<p>5 rows × 29 columns</p>\n",
       "</div>"
      ],
      "text/plain": [
       "   activity_type_a  activity_type_b  activity_type_c  activity_type_d  \\\n",
       "0                0                1                0                0   \n",
       "1                0                1                0                0   \n",
       "2                0                0                0                0   \n",
       "3                0                0                0                0   \n",
       "4                0                0                0                0   \n",
       "\n",
       "   activity_type_e  activity_type_f  activity_type_g  activity_type_h  \\\n",
       "0                0                0                0                0   \n",
       "1                0                0                0                0   \n",
       "2                0                0                0                0   \n",
       "3                0                0                0                0   \n",
       "4                0                0                0                0   \n",
       "\n",
       "   activity_type_i  activity_type_j  ...  activity_type_t  activity_type_u  \\\n",
       "0                0                0  ...                0                0   \n",
       "1                0                0  ...                0                0   \n",
       "2                0                1  ...                0                0   \n",
       "3                0                0  ...                0                0   \n",
       "4                0                0  ...                0                0   \n",
       "\n",
       "   activity_type_v  activity_type_w  activity_type_x  activity_type_y  \\\n",
       "0                0                0                0                0   \n",
       "1                0                0                0                0   \n",
       "2                0                0                0                0   \n",
       "3                0                0                0                0   \n",
       "4                1                0                0                0   \n",
       "\n",
       "   activity_count  days_active  close_deals?            customer  \n",
       "0               1          180             0  0030o00002nkSmtAAE  \n",
       "1               1          165             0  0030o00002nkSmuAAE  \n",
       "2               2          254             0  0030o00002nkSmuAAE  \n",
       "3               2          135             0  0030o00002nkSnHAAU  \n",
       "4               9          149             0  0030o00002nkSnHAAU  \n",
       "\n",
       "[5 rows x 29 columns]"
      ]
     },
     "execution_count": 13,
     "metadata": {},
     "output_type": "execute_result"
    }
   ],
   "source": [
    "#Convert activity_type (categorical variables) into dummy variable:\n",
    "activity_dummies = pd.get_dummies(processed.activity_type,prefix='activity_type')\n",
    "\n",
    "# now selecting varibale that might play significant role for future use\n",
    "final = pd.concat([activity_dummies, processed[['activity_count','days_active','close_deals?','customer']]], axis = 1)\n",
    "final.head()"
   ]
  },
  {
   "cell_type": "markdown",
   "id": "lightweight-tuning",
   "metadata": {},
   "source": [
    "# Section B: Data Evaluation"
   ]
  },
  {
   "cell_type": "markdown",
   "id": "impaired-monroe",
   "metadata": {},
   "source": [
    "### Exploratory Data Analysis: "
   ]
  },
  {
   "cell_type": "code",
   "execution_count": 14,
   "id": "tropical-intent",
   "metadata": {},
   "outputs": [],
   "source": [
    "x1 = final[['activity_count','days_active']]\n",
    "y = final['close_deals?']"
   ]
  },
  {
   "cell_type": "code",
   "execution_count": 15,
   "id": "overall-woman",
   "metadata": {},
   "outputs": [
    {
     "data": {
      "image/png": "[encoded data removed]",
      "text/plain": [
       "<Figure size 432x288 with 1 Axes>"
      ]
     },
     "metadata": {},
     "output_type": "display_data"
    }
   ],
   "source": [
    "# Create a scatter plot of x1 (activity_count) and y (close_deals?)\n",
    "plt.scatter(x1['activity_count'],y,color = 'C0')\n",
    "# Don't forget to label your axes!\n",
    "plt.xlabel('Activity count', fontsize = 20)\n",
    "plt.ylabel(\"Deals\", fontsize = 20)\n",
    "plt.show()"
   ]
  },
  {
   "cell_type": "markdown",
   "id": "mobile-fortune",
   "metadata": {},
   "source": [
    "### Comment:\n",
    "<br> Customers with less activity count (arround 100 times) have tendency to close the deal. "
   ]
  },
  {
   "cell_type": "code",
   "execution_count": 16,
   "id": "breathing-idaho",
   "metadata": {},
   "outputs": [
    {
     "data": {
      "text/plain": [
       "[Text(0.5, 0, 'Number of Active Days '),\n",
       " Text(0, 0.5, 'counts'),\n",
       " Text(0.5, 1.0, 'Days effect on Closed Deals')]"
      ]
     },
     "execution_count": 16,
     "metadata": {},
     "output_type": "execute_result"
    },
    {
     "data": {
      "image/png": "[encoded data removed]",
      "text/plain": [
       "<Figure size 1080x504 with 1 Axes>"
      ]
     },
     "metadata": {},
     "output_type": "display_data"
    }
   ],
   "source": [
    "# check if there are any effect of days_active on close deals or not\n",
    "fig, ax1 = plt.subplots(figsize=(15, 7))\n",
    "ax1 = sns.histplot(data=final, x=\"days_active\",hue='close_deals?')\n",
    "ax1.set(xlabel='Number of Active Days ', ylabel='counts', title='Days effect on Closed Deals')"
   ]
  },
  {
   "cell_type": "markdown",
   "id": "bulgarian-margin",
   "metadata": {},
   "source": [
    "#### Comment:\n",
    "<br> Which shows clear evidence that as the number of active days with a customer increase with the company, customer are less likely to closing the deals."
   ]
  },
  {
   "cell_type": "code",
   "execution_count": 17,
   "id": "russian-stand",
   "metadata": {},
   "outputs": [
    {
     "data": {
      "text/plain": [
       "[Text(0.5, 0, 'Activity Type Name'),\n",
       " Text(0, 0.5, 'counts'),\n",
       " Text(0.5, 1.0, 'Counts of different activity_type')]"
      ]
     },
     "execution_count": 17,
     "metadata": {},
     "output_type": "execute_result"
    },
    {
     "data": {
      "image/png": "[encoded data removed]",
      "text/plain": [
       "<Figure size 1080x504 with 1 Axes>"
      ]
     },
     "metadata": {},
     "output_type": "display_data"
    }
   ],
   "source": [
    "# check occurances of different activity types\n",
    "fig, ax1 = plt.subplots(figsize=(15, 7))\n",
    "activity_type_check = activity.activity_type.value_counts().to_frame().reset_index()\n",
    "ax = sns.barplot(x=\"index\", y=\"activity_type\", data=activity_type_check)\n",
    "ax1.set(xlabel='Activity Type Name', ylabel='counts', title='Counts of different activity_type')"
   ]
  },
  {
   "cell_type": "markdown",
   "id": "wooden-mortgage",
   "metadata": {},
   "source": [
    "### Analyze the churn (close deals) rate by categorical variables (customer, activity_type)"
   ]
  },
  {
   "cell_type": "code",
   "execution_count": 18,
   "id": "light-dollar",
   "metadata": {},
   "outputs": [
    {
     "name": "stderr",
     "output_type": "stream",
     "text": [
      "<ipython-input-18-4612faa62d22>:3: SettingWithCopyWarning: \n",
      "A value is trying to be set on a copy of a slice from a DataFrame.\n",
      "Try using .loc[row_indexer,col_indexer] = value instead\n",
      "\n",
      "See the caveats in the documentation: https://pandas.pydata.org/pandas-docs/stable/user_guide/indexing.html#returning-a-view-versus-a-copy\n",
      "  churn_rate [\"churn_label\"] = pd.Series(np.where((churn_rate[\"close_deals?\"] == 0), \"No\", \"Yes\"))\n"
     ]
    },
    {
     "data": {
      "image/png": "[encoded data removed]",
      "text/plain": [
       "<Figure size 864x504 with 1 Axes>"
      ]
     },
     "metadata": {},
     "output_type": "display_data"
    }
   ],
   "source": [
    "#Churn Rate by customer deals:\n",
    "churn_rate = final[[\"close_deals?\", \"customer\"]]\n",
    "churn_rate [\"churn_label\"] = pd.Series(np.where((churn_rate[\"close_deals?\"] == 0), \"No\", \"Yes\"))\n",
    "sectors = churn_rate .groupby (\"churn_label\")\n",
    "churn_rate = pd.DataFrame(sectors[\"customer\"].count())\n",
    "churn_rate [\"Churn Rate\"] = (churn_rate [\"customer\"]/ sum(churn_rate [\"customer\"]) )*100\n",
    "\n",
    "ax =  churn_rate[[\"Churn Rate\"]].plot.bar(title = 'Overall Churn Rate',legend =True, table = False,grid = False,  subplots = False, \n",
    "figsize =(12, 7), color = '#ec838a', fontsize = 15, stacked=False, ylim =(0,100))\n",
    "plt.ylabel('Proportion of Customers',horizontalalignment=\"center\",\n",
    "fontstyle = \"normal\", fontsize = \"large\", fontfamily = \"sans-serif\")\n",
    "plt.xlabel('Churn',horizontalalignment=\"center\",fontstyle = \"normal\", fontsize = \"large\", fontfamily = \"sans-serif\")\n",
    "plt.title('Overall Churn Rate \\n',horizontalalignment=\"center\", \n",
    "fontstyle = \"normal\", fontsize = \"22\", fontfamily = \"sans-serif\")\n",
    "# plt.legend(loc='top right', fontsize = \"medium\")\n",
    "plt.xticks(rotation=0, horizontalalignment=\"center\")\n",
    "plt.yticks(rotation=0, horizontalalignment=\"right\")\n",
    "ax.yaxis.set_major_formatter(mtick.PercentFormatter())\n",
    "x_labels = np.array(churn_rate[[\"customer\"]])\n",
    "def add_value_labels(ax, spacing=5):   \n",
    "    for rect in ax.patches:     \n",
    "        y_value = rect.get_height()\n",
    "        x_value = rect.get_x() + rect.get_width() / 2       \n",
    "        space = spacing\n",
    "        va = 'bottom'        \n",
    "        if y_value < 0:           \n",
    "            space *= -1          \n",
    "            va = 'top'\n",
    "        label = \"{:.1f}%\".format(y_value)    \n",
    " \n",
    "        ax.annotate(label,\n",
    "                    (x_value, y_value),         \n",
    "                     xytext=(0, space),\n",
    "                     textcoords=\"offset points\", \n",
    "                     ha='center',va=va)\n",
    "add_value_labels(ax)\n",
    "ax.autoscale(enable=False, axis='both', tight=False)"
   ]
  },
  {
   "cell_type": "code",
   "execution_count": 19,
   "id": "drawn-documentary",
   "metadata": {},
   "outputs": [
    {
     "data": {
      "text/html": [
       "<div>\n",
       "<style scoped>\n",
       "    .dataframe tbody tr th:only-of-type {\n",
       "        vertical-align: middle;\n",
       "    }\n",
       "\n",
       "    .dataframe tbody tr th {\n",
       "        vertical-align: top;\n",
       "    }\n",
       "\n",
       "    .dataframe thead th {\n",
       "        text-align: right;\n",
       "    }\n",
       "</style>\n",
       "<table border=\"1\" class=\"dataframe\">\n",
       "  <thead>\n",
       "    <tr style=\"text-align: right;\">\n",
       "      <th></th>\n",
       "      <th>date</th>\n",
       "      <th>customer</th>\n",
       "      <th>activity_type</th>\n",
       "      <th>activity_count</th>\n",
       "      <th>close_date</th>\n",
       "      <th>close_deals?</th>\n",
       "    </tr>\n",
       "  </thead>\n",
       "  <tbody>\n",
       "    <tr>\n",
       "      <th>0</th>\n",
       "      <td>2021-01-20</td>\n",
       "      <td>0032j000002jRYxAAM</td>\n",
       "      <td>a</td>\n",
       "      <td>1</td>\n",
       "      <td>NaT</td>\n",
       "      <td>0</td>\n",
       "    </tr>\n",
       "    <tr>\n",
       "      <th>1</th>\n",
       "      <td>2021-05-11</td>\n",
       "      <td>0032j00000FZcIvAAL</td>\n",
       "      <td>a</td>\n",
       "      <td>1</td>\n",
       "      <td>NaT</td>\n",
       "      <td>0</td>\n",
       "    </tr>\n",
       "    <tr>\n",
       "      <th>2</th>\n",
       "      <td>2020-12-09</td>\n",
       "      <td>0032j000002gKM8AAM</td>\n",
       "      <td>a</td>\n",
       "      <td>1</td>\n",
       "      <td>NaT</td>\n",
       "      <td>0</td>\n",
       "    </tr>\n",
       "    <tr>\n",
       "      <th>3</th>\n",
       "      <td>2021-03-30</td>\n",
       "      <td>0032j000001UX7cAAG</td>\n",
       "      <td>a</td>\n",
       "      <td>1</td>\n",
       "      <td>NaT</td>\n",
       "      <td>0</td>\n",
       "    </tr>\n",
       "    <tr>\n",
       "      <th>4</th>\n",
       "      <td>2020-10-19</td>\n",
       "      <td>0032j000004etUWAAY</td>\n",
       "      <td>a</td>\n",
       "      <td>1</td>\n",
       "      <td>2021-04-07</td>\n",
       "      <td>1</td>\n",
       "    </tr>\n",
       "  </tbody>\n",
       "</table>\n",
       "</div>"
      ],
      "text/plain": [
       "        date            customer activity_type  activity_count close_date  \\\n",
       "0 2021-01-20  0032j000002jRYxAAM             a               1        NaT   \n",
       "1 2021-05-11  0032j00000FZcIvAAL             a               1        NaT   \n",
       "2 2020-12-09  0032j000002gKM8AAM             a               1        NaT   \n",
       "3 2021-03-30  0032j000001UX7cAAG             a               1        NaT   \n",
       "4 2020-10-19  0032j000004etUWAAY             a               1 2021-04-07   \n",
       "\n",
       "   close_deals?  \n",
       "0             0  \n",
       "1             0  \n",
       "2             0  \n",
       "3             0  \n",
       "4             1  "
      ]
     },
     "execution_count": 19,
     "metadata": {},
     "output_type": "execute_result"
    }
   ],
   "source": [
    "# preparing datasets for churn against activity_type\n",
    "targets = target.rename(columns = {'date': 'close_date'}, inplace = False)\n",
    "datasets = activity.merge(targets, on='customer', how='left')\n",
    "datasets['close_deals?'] = datasets.close_date.fillna(0).apply(lambda x: 0 if x == 0  else 1)\n",
    "datasets.head()"
   ]
  },
  {
   "cell_type": "code",
   "execution_count": 20,
   "id": "operating-tobago",
   "metadata": {},
   "outputs": [
    {
     "data": {
      "image/png": "[encoded data removed]",
      "text/plain": [
       "<Figure size 864x504 with 1 Axes>"
      ]
     },
     "metadata": {},
     "output_type": "display_data"
    }
   ],
   "source": [
    "# Churn Rate by Activity Type:\n",
    "activity_type_churn = datasets.groupby(['activity_type','close_deals?']).size().unstack()\n",
    "activity_type_churn.rename(columns={0:'No', 1:'Yes'}, inplace=True)\n",
    "\n",
    "colors  = ['#ec838a','#9b9c9a']\n",
    "ax = (activity_type_churn.T*100.0 / activity_type_churn.T.sum()).T.plot(kind='bar',width = 0.3,stacked = True,rot = 0,figsize = (12,7),color = colors)\n",
    "\n",
    "plt.ylabel('Proportion of Customers\\n',\n",
    "            horizontalalignment=\"center\",fontstyle = \"normal\", \n",
    "            fontsize = \"large\", fontfamily = \"sans-serif\")\n",
    "plt.xlabel('Activity Type\\n',horizontalalignment=\"center\",\n",
    "            fontstyle = \"normal\", fontsize = \"large\", \n",
    "            fontfamily = \"sans-serif\")\n",
    "plt.title('Churn Rate by Activity type \\n',\n",
    "            horizontalalignment=\"center\", fontstyle = \"normal\", \n",
    "            fontsize = \"22\", fontfamily = \"sans-serif\")\n",
    "plt.yticks(rotation=0, horizontalalignment=\"right\")\n",
    "ax.yaxis.set_major_formatter(mtick.PercentFormatter())\n",
    "for p in ax.patches:\n",
    "    width, height = p.get_width(), p.get_height()\n",
    "    x, y = p.get_xy() \n",
    "    ax.text(x+width/2, \n",
    "            y+height/2, \n",
    "            '{:.1f}%'.format(height), \n",
    "            horizontalalignment='center', \n",
    "            verticalalignment='center')\n",
    "ax.autoscale(enable=False, axis='both', tight=False)"
   ]
  },
  {
   "cell_type": "code",
   "execution_count": 66,
   "id": "conservative-twins",
   "metadata": {},
   "outputs": [
    {
     "data": {
      "text/html": [
       "<div>\n",
       "<style scoped>\n",
       "    .dataframe tbody tr th:only-of-type {\n",
       "        vertical-align: middle;\n",
       "    }\n",
       "\n",
       "    .dataframe tbody tr th {\n",
       "        vertical-align: top;\n",
       "    }\n",
       "\n",
       "    .dataframe thead th {\n",
       "        text-align: right;\n",
       "    }\n",
       "</style>\n",
       "<table border=\"1\" class=\"dataframe\">\n",
       "  <thead>\n",
       "    <tr style=\"text-align: right;\">\n",
       "      <th>close_deals?</th>\n",
       "      <th>No</th>\n",
       "      <th>Yes</th>\n",
       "    </tr>\n",
       "    <tr>\n",
       "      <th>activity_type</th>\n",
       "      <th></th>\n",
       "      <th></th>\n",
       "    </tr>\n",
       "  </thead>\n",
       "  <tbody>\n",
       "    <tr>\n",
       "      <th>a</th>\n",
       "      <td>90.789449</td>\n",
       "      <td>9.210551</td>\n",
       "    </tr>\n",
       "    <tr>\n",
       "      <th>b</th>\n",
       "      <td>98.768594</td>\n",
       "      <td>1.231406</td>\n",
       "    </tr>\n",
       "    <tr>\n",
       "      <th>c</th>\n",
       "      <td>98.233851</td>\n",
       "      <td>1.766149</td>\n",
       "    </tr>\n",
       "    <tr>\n",
       "      <th>d</th>\n",
       "      <td>94.941349</td>\n",
       "      <td>5.058651</td>\n",
       "    </tr>\n",
       "    <tr>\n",
       "      <th>e</th>\n",
       "      <td>97.183099</td>\n",
       "      <td>2.816901</td>\n",
       "    </tr>\n",
       "    <tr>\n",
       "      <th>f</th>\n",
       "      <td>99.593806</td>\n",
       "      <td>0.406194</td>\n",
       "    </tr>\n",
       "    <tr>\n",
       "      <th>g</th>\n",
       "      <td>77.083333</td>\n",
       "      <td>22.916667</td>\n",
       "    </tr>\n",
       "    <tr>\n",
       "      <th>h</th>\n",
       "      <td>94.806737</td>\n",
       "      <td>5.193263</td>\n",
       "    </tr>\n",
       "    <tr>\n",
       "      <th>i</th>\n",
       "      <td>82.513532</td>\n",
       "      <td>17.486468</td>\n",
       "    </tr>\n",
       "    <tr>\n",
       "      <th>j</th>\n",
       "      <td>97.379900</td>\n",
       "      <td>2.620100</td>\n",
       "    </tr>\n",
       "    <tr>\n",
       "      <th>k</th>\n",
       "      <td>99.576943</td>\n",
       "      <td>0.423057</td>\n",
       "    </tr>\n",
       "    <tr>\n",
       "      <th>l</th>\n",
       "      <td>78.075532</td>\n",
       "      <td>21.924468</td>\n",
       "    </tr>\n",
       "    <tr>\n",
       "      <th>m</th>\n",
       "      <td>86.201402</td>\n",
       "      <td>13.798598</td>\n",
       "    </tr>\n",
       "    <tr>\n",
       "      <th>n</th>\n",
       "      <td>80.037367</td>\n",
       "      <td>19.962633</td>\n",
       "    </tr>\n",
       "    <tr>\n",
       "      <th>o</th>\n",
       "      <td>92.887462</td>\n",
       "      <td>7.112538</td>\n",
       "    </tr>\n",
       "    <tr>\n",
       "      <th>p</th>\n",
       "      <td>81.295253</td>\n",
       "      <td>18.704747</td>\n",
       "    </tr>\n",
       "    <tr>\n",
       "      <th>q</th>\n",
       "      <td>91.836735</td>\n",
       "      <td>8.163265</td>\n",
       "    </tr>\n",
       "    <tr>\n",
       "      <th>r</th>\n",
       "      <td>84.302326</td>\n",
       "      <td>15.697674</td>\n",
       "    </tr>\n",
       "    <tr>\n",
       "      <th>s</th>\n",
       "      <td>92.427034</td>\n",
       "      <td>7.572966</td>\n",
       "    </tr>\n",
       "    <tr>\n",
       "      <th>t</th>\n",
       "      <td>93.370412</td>\n",
       "      <td>6.629588</td>\n",
       "    </tr>\n",
       "    <tr>\n",
       "      <th>u</th>\n",
       "      <td>95.171361</td>\n",
       "      <td>4.828639</td>\n",
       "    </tr>\n",
       "    <tr>\n",
       "      <th>v</th>\n",
       "      <td>82.974492</td>\n",
       "      <td>17.025508</td>\n",
       "    </tr>\n",
       "    <tr>\n",
       "      <th>w</th>\n",
       "      <td>82.028784</td>\n",
       "      <td>17.971216</td>\n",
       "    </tr>\n",
       "    <tr>\n",
       "      <th>x</th>\n",
       "      <td>94.747162</td>\n",
       "      <td>5.252838</td>\n",
       "    </tr>\n",
       "    <tr>\n",
       "      <th>y</th>\n",
       "      <td>81.806870</td>\n",
       "      <td>18.193130</td>\n",
       "    </tr>\n",
       "  </tbody>\n",
       "</table>\n",
       "</div>"
      ],
      "text/plain": [
       "close_deals?          No        Yes\n",
       "activity_type                      \n",
       "a              90.789449   9.210551\n",
       "b              98.768594   1.231406\n",
       "c              98.233851   1.766149\n",
       "d              94.941349   5.058651\n",
       "e              97.183099   2.816901\n",
       "f              99.593806   0.406194\n",
       "g              77.083333  22.916667\n",
       "h              94.806737   5.193263\n",
       "i              82.513532  17.486468\n",
       "j              97.379900   2.620100\n",
       "k              99.576943   0.423057\n",
       "l              78.075532  21.924468\n",
       "m              86.201402  13.798598\n",
       "n              80.037367  19.962633\n",
       "o              92.887462   7.112538\n",
       "p              81.295253  18.704747\n",
       "q              91.836735   8.163265\n",
       "r              84.302326  15.697674\n",
       "s              92.427034   7.572966\n",
       "t              93.370412   6.629588\n",
       "u              95.171361   4.828639\n",
       "v              82.974492  17.025508\n",
       "w              82.028784  17.971216\n",
       "x              94.747162   5.252838\n",
       "y              81.806870  18.193130"
      ]
     },
     "execution_count": 66,
     "metadata": {},
     "output_type": "execute_result"
    }
   ],
   "source": [
    "# activity_type vs contribution\n",
    "results = activity_type_churn.T*100.0 / activity_type_churn.T.sum()\n",
    "results.T.rename(columns={'close_deals?':'contribution'})"
   ]
  },
  {
   "cell_type": "code",
   "execution_count": 70,
   "id": "endless-assault",
   "metadata": {},
   "outputs": [],
   "source": [
    "results.T.to_csv('results.csv') #save file"
   ]
  },
  {
   "cell_type": "markdown",
   "id": "skilled-therapist",
   "metadata": {},
   "source": [
    "### detemine the feature & target variable and their correlations:-"
   ]
  },
  {
   "cell_type": "code",
   "execution_count": 21,
   "id": "current-patio",
   "metadata": {},
   "outputs": [],
   "source": [
    "x = final.iloc[:,:-2]\n",
    "y = final[['close_deals?']]"
   ]
  },
  {
   "cell_type": "code",
   "execution_count": 22,
   "id": "minute-certification",
   "metadata": {},
   "outputs": [
    {
     "data": {
      "text/plain": [
       "Text(0.5, 1.0, 'Correlation with Churn Rate \\n')"
      ]
     },
     "execution_count": 22,
     "metadata": {},
     "output_type": "execute_result"
    },
    {
     "data": {
      "image/png": "[encoded data removed]",
      "text/plain": [
       "<Figure size 1296x720 with 1 Axes>"
      ]
     },
     "metadata": {},
     "output_type": "display_data"
    }
   ],
   "source": [
    "# correlation between feature and target variable - \n",
    "correlations = x.corrwith(y['close_deals?'])\n",
    "correlations = correlations[correlations!=1]\n",
    "correlations.plot.bar(\n",
    "        figsize = (18, 10), \n",
    "        fontsize = 15, \n",
    "        color = '#ec838a',\n",
    "        rot = 45, grid = True)\n",
    "plt.title('Correlation with Churn Rate \\n',\n",
    "horizontalalignment=\"center\", fontstyle = \"normal\", \n",
    "fontsize = \"22\", fontfamily = \"sans-serif\")"
   ]
  },
  {
   "cell_type": "code",
   "execution_count": 23,
   "id": "abroad-leader",
   "metadata": {},
   "outputs": [
    {
     "data": {
      "text/plain": [
       "<AxesSubplot:>"
      ]
     },
     "execution_count": 23,
     "metadata": {},
     "output_type": "execute_result"
    },
    {
     "data": {
      "image/png": "[encoded data removed]",
      "text/plain": [
       "<Figure size 1296x1080 with 2 Axes>"
      ]
     },
     "metadata": {},
     "output_type": "display_data"
    }
   ],
   "source": [
    "# correlation between feature variables -\n",
    "sns.set(style=\"white\")\n",
    "corr = x.corr()\n",
    "#Generate a mask for the upper triangle:\n",
    "mask = np.zeros_like(corr, dtype=np.bool)\n",
    "mask[np.triu_indices_from(mask)] = True\n",
    "#Set up the matplotlib figure and a diverging colormap:\n",
    "f, ax = plt.subplots(figsize=(18, 15))\n",
    "cmap = sns.diverging_palette(220, 10, as_cmap=True)\n",
    "#Draw the heatmap with the mask and correct aspect ratio:\n",
    "sns.heatmap(corr, mask=mask, cmap=cmap, vmax=0.25, center=0,\n",
    "square=True, linewidths=.5, cbar_kws={\"shrink\": .5})"
   ]
  },
  {
   "cell_type": "markdown",
   "id": "fourth-momentum",
   "metadata": {},
   "source": [
    "### Check Multicollinearity using VIF"
   ]
  },
  {
   "cell_type": "code",
   "execution_count": 24,
   "id": "civil-malpractice",
   "metadata": {},
   "outputs": [
    {
     "data": {
      "text/html": [
       "<div>\n",
       "<style scoped>\n",
       "    .dataframe tbody tr th:only-of-type {\n",
       "        vertical-align: middle;\n",
       "    }\n",
       "\n",
       "    .dataframe tbody tr th {\n",
       "        vertical-align: top;\n",
       "    }\n",
       "\n",
       "    .dataframe thead th {\n",
       "        text-align: right;\n",
       "    }\n",
       "</style>\n",
       "<table border=\"1\" class=\"dataframe\">\n",
       "  <thead>\n",
       "    <tr style=\"text-align: right;\">\n",
       "      <th></th>\n",
       "      <th>variables</th>\n",
       "      <th>VIF</th>\n",
       "    </tr>\n",
       "  </thead>\n",
       "  <tbody>\n",
       "    <tr>\n",
       "      <th>0</th>\n",
       "      <td>activity_type_a</td>\n",
       "      <td>1.309308</td>\n",
       "    </tr>\n",
       "    <tr>\n",
       "      <th>1</th>\n",
       "      <td>activity_type_b</td>\n",
       "      <td>1.173021</td>\n",
       "    </tr>\n",
       "    <tr>\n",
       "      <th>2</th>\n",
       "      <td>activity_type_c</td>\n",
       "      <td>1.017430</td>\n",
       "    </tr>\n",
       "    <tr>\n",
       "      <th>3</th>\n",
       "      <td>activity_type_d</td>\n",
       "      <td>1.014465</td>\n",
       "    </tr>\n",
       "    <tr>\n",
       "      <th>4</th>\n",
       "      <td>activity_type_e</td>\n",
       "      <td>1.000449</td>\n",
       "    </tr>\n",
       "    <tr>\n",
       "      <th>5</th>\n",
       "      <td>activity_type_f</td>\n",
       "      <td>1.478148</td>\n",
       "    </tr>\n",
       "    <tr>\n",
       "      <th>6</th>\n",
       "      <td>activity_type_g</td>\n",
       "      <td>1.001165</td>\n",
       "    </tr>\n",
       "    <tr>\n",
       "      <th>7</th>\n",
       "      <td>activity_type_h</td>\n",
       "      <td>1.199762</td>\n",
       "    </tr>\n",
       "    <tr>\n",
       "      <th>8</th>\n",
       "      <td>activity_type_i</td>\n",
       "      <td>1.087018</td>\n",
       "    </tr>\n",
       "    <tr>\n",
       "      <th>9</th>\n",
       "      <td>activity_type_j</td>\n",
       "      <td>1.220018</td>\n",
       "    </tr>\n",
       "    <tr>\n",
       "      <th>10</th>\n",
       "      <td>activity_type_k</td>\n",
       "      <td>1.009286</td>\n",
       "    </tr>\n",
       "    <tr>\n",
       "      <th>11</th>\n",
       "      <td>activity_type_l</td>\n",
       "      <td>1.160297</td>\n",
       "    </tr>\n",
       "    <tr>\n",
       "      <th>12</th>\n",
       "      <td>activity_type_m</td>\n",
       "      <td>1.316678</td>\n",
       "    </tr>\n",
       "    <tr>\n",
       "      <th>13</th>\n",
       "      <td>activity_type_n</td>\n",
       "      <td>1.143714</td>\n",
       "    </tr>\n",
       "    <tr>\n",
       "      <th>14</th>\n",
       "      <td>activity_type_o</td>\n",
       "      <td>1.097205</td>\n",
       "    </tr>\n",
       "    <tr>\n",
       "      <th>15</th>\n",
       "      <td>activity_type_p</td>\n",
       "      <td>1.075901</td>\n",
       "    </tr>\n",
       "    <tr>\n",
       "      <th>16</th>\n",
       "      <td>activity_type_q</td>\n",
       "      <td>1.001913</td>\n",
       "    </tr>\n",
       "    <tr>\n",
       "      <th>17</th>\n",
       "      <td>activity_type_r</td>\n",
       "      <td>1.006404</td>\n",
       "    </tr>\n",
       "    <tr>\n",
       "      <th>18</th>\n",
       "      <td>activity_type_s</td>\n",
       "      <td>1.045946</td>\n",
       "    </tr>\n",
       "    <tr>\n",
       "      <th>19</th>\n",
       "      <td>activity_type_t</td>\n",
       "      <td>1.075334</td>\n",
       "    </tr>\n",
       "    <tr>\n",
       "      <th>20</th>\n",
       "      <td>activity_type_u</td>\n",
       "      <td>1.249376</td>\n",
       "    </tr>\n",
       "    <tr>\n",
       "      <th>21</th>\n",
       "      <td>activity_type_v</td>\n",
       "      <td>1.075105</td>\n",
       "    </tr>\n",
       "    <tr>\n",
       "      <th>22</th>\n",
       "      <td>activity_type_w</td>\n",
       "      <td>1.062839</td>\n",
       "    </tr>\n",
       "    <tr>\n",
       "      <th>23</th>\n",
       "      <td>activity_type_x</td>\n",
       "      <td>1.424086</td>\n",
       "    </tr>\n",
       "    <tr>\n",
       "      <th>24</th>\n",
       "      <td>activity_type_y</td>\n",
       "      <td>1.086439</td>\n",
       "    </tr>\n",
       "    <tr>\n",
       "      <th>25</th>\n",
       "      <td>activity_count</td>\n",
       "      <td>1.057512</td>\n",
       "    </tr>\n",
       "    <tr>\n",
       "      <th>26</th>\n",
       "      <td>days_active</td>\n",
       "      <td>1.107192</td>\n",
       "    </tr>\n",
       "  </tbody>\n",
       "</table>\n",
       "</div>"
      ],
      "text/plain": [
       "          variables       VIF\n",
       "0   activity_type_a  1.309308\n",
       "1   activity_type_b  1.173021\n",
       "2   activity_type_c  1.017430\n",
       "3   activity_type_d  1.014465\n",
       "4   activity_type_e  1.000449\n",
       "5   activity_type_f  1.478148\n",
       "6   activity_type_g  1.001165\n",
       "7   activity_type_h  1.199762\n",
       "8   activity_type_i  1.087018\n",
       "9   activity_type_j  1.220018\n",
       "10  activity_type_k  1.009286\n",
       "11  activity_type_l  1.160297\n",
       "12  activity_type_m  1.316678\n",
       "13  activity_type_n  1.143714\n",
       "14  activity_type_o  1.097205\n",
       "15  activity_type_p  1.075901\n",
       "16  activity_type_q  1.001913\n",
       "17  activity_type_r  1.006404\n",
       "18  activity_type_s  1.045946\n",
       "19  activity_type_t  1.075334\n",
       "20  activity_type_u  1.249376\n",
       "21  activity_type_v  1.075105\n",
       "22  activity_type_w  1.062839\n",
       "23  activity_type_x  1.424086\n",
       "24  activity_type_y  1.086439\n",
       "25   activity_count  1.057512\n",
       "26      days_active  1.107192"
      ]
     },
     "execution_count": 24,
     "metadata": {},
     "output_type": "execute_result"
    }
   ],
   "source": [
    "def calc_vif(X):\n",
    "    # Calculating VIF\n",
    "    vif = pd.DataFrame()\n",
    "    vif[\"variables\"] = X.columns\n",
    "    vif[\"VIF\"] = [variance_inflation_factor(X.values, i) \n",
    "    for i in range(X.shape[1])]\n",
    "    return(vif)\n",
    "\n",
    "calc_vif(x)"
   ]
  },
  {
   "cell_type": "markdown",
   "id": "economic-williams",
   "metadata": {},
   "source": [
    "### comment:-\n",
    "<br> There is no multicolinerarity between the feature variables."
   ]
  },
  {
   "cell_type": "markdown",
   "id": "exceptional-penny",
   "metadata": {},
   "source": [
    "### Generate training and test datasets:"
   ]
  },
  {
   "cell_type": "code",
   "execution_count": 25,
   "id": "normal-virtue",
   "metadata": {},
   "outputs": [
    {
     "name": "stdout",
     "output_type": "stream",
     "text": [
      "Number transactions X_train dataset:  (322006, 27)\n",
      "Number transactions y_train dataset:  (322006, 1)\n",
      "Number transactions X_test dataset:  (35779, 27)\n",
      "Number transactions y_test dataset:  (35779, 1)\n"
     ]
    }
   ],
   "source": [
    "# Let’s decouple the master dataset into training and test set with an 90%-10% ratio.\n",
    "X_train, X_test, y_train, y_test = train_test_split(x, y,stratify=y, test_size = 0.1,random_state = 0) #to resolve any class imbalance - use stratify parameter.\n",
    "\n",
    "# print shape of the train test model\n",
    "print(\"Number transactions X_train dataset: \", X_train.shape)\n",
    "print(\"Number transactions y_train dataset: \", y_train.shape)\n",
    "print(\"Number transactions X_test dataset: \", X_test.shape)\n",
    "print(\"Number transactions y_test dataset: \", y_test.shape)"
   ]
  },
  {
   "cell_type": "markdown",
   "id": "parliamentary-montana",
   "metadata": {},
   "source": [
    "### Conduct Feature Scaling:"
   ]
  },
  {
   "cell_type": "code",
   "execution_count": 26,
   "id": "arbitrary-degree",
   "metadata": {},
   "outputs": [],
   "source": [
    "sc_X = StandardScaler()\n",
    "X_train2 = pd.DataFrame(sc_X.fit_transform(X_train))\n",
    "X_train2.columns = X_train.columns.values\n",
    "X_train2.index = X_train.index.values\n",
    "X_train = X_train2\n",
    "X_test2 = pd.DataFrame(sc_X.transform(X_test))\n",
    "X_test2.columns = X_test.columns.values\n",
    "X_test2.index = X_test.index.values\n",
    "X_test = X_test2"
   ]
  },
  {
   "cell_type": "markdown",
   "id": "viral-lease",
   "metadata": {},
   "source": [
    "# Section C: Model Selection"
   ]
  },
  {
   "cell_type": "code",
   "execution_count": 27,
   "id": "developed-tribute",
   "metadata": {},
   "outputs": [
    {
     "name": "stderr",
     "output_type": "stream",
     "text": [
      "C:\\Users\\NybSys\\anaconda3\\lib\\site-packages\\xgboost\\sklearn.py:1146: UserWarning: The use of label encoder in XGBClassifier is deprecated and will be removed in a future release. To remove this warning, do the following: 1) Pass option use_label_encoder=False when constructing XGBClassifier object; and 2) Encode your labels (y) as integers starting with 0, i.e. 0, 1, 2, ..., [num_class - 1].\n",
      "  warnings.warn(label_encoder_deprecation_msg, UserWarning)\n",
      "C:\\Users\\NybSys\\anaconda3\\lib\\site-packages\\sklearn\\utils\\validation.py:63: DataConversionWarning: A column-vector y was passed when a 1d array was expected. Please change the shape of y to (n_samples, ), for example using ravel().\n",
      "  return f(*args, **kwargs)\n"
     ]
    },
    {
     "name": "stdout",
     "output_type": "stream",
     "text": [
      "[23:07:20] WARNING: C:/Users/Administrator/workspace/xgboost-win64_release_1.4.0/src/learner.cc:1095: Starting in XGBoost 1.3.0, the default evaluation metric used with the objective 'binary:logistic' was changed from 'error' to 'logloss'. Explicitly set eval_metric if you'd like to restore the old behavior.\n",
      "Accuracy of XGB classifier on training set: 0.95\n",
      "Accuracy of XGB classifier on test set: 0.96\n"
     ]
    }
   ],
   "source": [
    "#building the model & printing the score\n",
    "xgb_model = xgb.XGBClassifier(max_depth=5, learning_rate=0.08, objective= 'binary:logistic',n_jobs=-1).fit(X_train, y_train)\n",
    "\n",
    "print('Accuracy of XGB classifier on training set: {:.2f}'\n",
    "       .format(xgb_model.score(X_train, y_train)))\n",
    "print('Accuracy of XGB classifier on test set: {:.2f}'\n",
    "       .format(xgb_model.score(X_test[X_train.columns], y_test)))"
   ]
  },
  {
   "cell_type": "markdown",
   "id": "ignored-liberia",
   "metadata": {},
   "source": [
    "### comment:-\n",
    "<br> By using this simple model, we have achieved 96% accuracy:"
   ]
  },
  {
   "cell_type": "code",
   "execution_count": 28,
   "id": "hundred-representative",
   "metadata": {},
   "outputs": [
    {
     "name": "stdout",
     "output_type": "stream",
     "text": [
      "              precision    recall  f1-score   support\n",
      "\n",
      "           0       0.96      0.99      0.98     33147\n",
      "           1       0.85      0.48      0.62      2632\n",
      "\n",
      "    accuracy                           0.96     35779\n",
      "   macro avg       0.91      0.74      0.80     35779\n",
      "weighted avg       0.95      0.96      0.95     35779\n",
      "\n"
     ]
    }
   ],
   "source": [
    "y_pred = xgb_model.predict(X_test)\n",
    "print(classification_report(y_test, y_pred))"
   ]
  },
  {
   "cell_type": "markdown",
   "id": "smooth-musical",
   "metadata": {},
   "source": [
    "### Comment:-\n",
    "<br> 1. We can interpret the report above as if our model tells us, 100 customers will churn, 85 of it will churn (0.85 precision). \n",
    "<br> 2. And actually, there are around 30,515 customers who will churn (0.48recall). \n",
    "<br> 3. Especially recall is the main problem here, and we can improve our model’s overall performance by:\n",
    "   <br> --     Adding more data \n",
    "   <br> --     Adding more features\n",
    "   <br> --     More feature engineering\n",
    "   <br> --     Trying other models\n",
    "   <br> --     Hyper-parameter tuning"
   ]
  },
  {
   "cell_type": "markdown",
   "id": "liked-import",
   "metadata": {},
   "source": [
    "### which were the most important ones?"
   ]
  },
  {
   "cell_type": "code",
   "execution_count": 29,
   "id": "dirty-navigator",
   "metadata": {},
   "outputs": [
    {
     "data": {
      "text/plain": [
       "<AxesSubplot:title={'center':'Feature importance'}, xlabel='F score', ylabel='Features'>"
      ]
     },
     "execution_count": 29,
     "metadata": {},
     "output_type": "execute_result"
    },
    {
     "data": {
      "image/png": "[encoded data removed]",
      "text/plain": [
       "<Figure size 720x576 with 1 Axes>"
      ]
     },
     "metadata": {},
     "output_type": "display_data"
    }
   ],
   "source": [
    "sns.set()\n",
    "fig, ax = plt.subplots(figsize=(10,8))\n",
    "plot_importance(xgb_model, ax=ax)"
   ]
  },
  {
   "cell_type": "markdown",
   "id": "agreed-juice",
   "metadata": {},
   "source": [
    "### predict the probability of closing deals with each customer"
   ]
  },
  {
   "cell_type": "code",
   "execution_count": 39,
   "id": "colored-lobby",
   "metadata": {},
   "outputs": [
    {
     "data": {
      "text/html": [
       "<div>\n",
       "<style scoped>\n",
       "    .dataframe tbody tr th:only-of-type {\n",
       "        vertical-align: middle;\n",
       "    }\n",
       "\n",
       "    .dataframe tbody tr th {\n",
       "        vertical-align: top;\n",
       "    }\n",
       "\n",
       "    .dataframe thead th {\n",
       "        text-align: right;\n",
       "    }\n",
       "</style>\n",
       "<table border=\"1\" class=\"dataframe\">\n",
       "  <thead>\n",
       "    <tr style=\"text-align: right;\">\n",
       "      <th></th>\n",
       "      <th>customer</th>\n",
       "      <th>probility</th>\n",
       "    </tr>\n",
       "  </thead>\n",
       "  <tbody>\n",
       "    <tr>\n",
       "      <th>0</th>\n",
       "      <td>0030o00002nkSmtAAE</td>\n",
       "      <td>0.003377</td>\n",
       "    </tr>\n",
       "    <tr>\n",
       "      <th>1</th>\n",
       "      <td>0030o00002nkSmuAAE</td>\n",
       "      <td>0.003377</td>\n",
       "    </tr>\n",
       "    <tr>\n",
       "      <th>2</th>\n",
       "      <td>0030o00002nkSmuAAE</td>\n",
       "      <td>0.003544</td>\n",
       "    </tr>\n",
       "    <tr>\n",
       "      <th>3</th>\n",
       "      <td>0030o00002nkSnHAAU</td>\n",
       "      <td>0.003544</td>\n",
       "    </tr>\n",
       "    <tr>\n",
       "      <th>4</th>\n",
       "      <td>0030o00002nkSnHAAU</td>\n",
       "      <td>0.003664</td>\n",
       "    </tr>\n",
       "    <tr>\n",
       "      <th>...</th>\n",
       "      <td>...</td>\n",
       "      <td>...</td>\n",
       "    </tr>\n",
       "    <tr>\n",
       "      <th>357778</th>\n",
       "      <td>0032j00000GjPtaAAF</td>\n",
       "      <td>0.227787</td>\n",
       "    </tr>\n",
       "    <tr>\n",
       "      <th>357779</th>\n",
       "      <td>0032j00000GjPtaAAF</td>\n",
       "      <td>0.337805</td>\n",
       "    </tr>\n",
       "    <tr>\n",
       "      <th>357780</th>\n",
       "      <td>0032j00000GjPtaAAF</td>\n",
       "      <td>0.328380</td>\n",
       "    </tr>\n",
       "    <tr>\n",
       "      <th>357781</th>\n",
       "      <td>0032j00000GjPtaAAF</td>\n",
       "      <td>0.003544</td>\n",
       "    </tr>\n",
       "    <tr>\n",
       "      <th>357784</th>\n",
       "      <td>0032j00000GjQkDAAV</td>\n",
       "      <td>0.078522</td>\n",
       "    </tr>\n",
       "  </tbody>\n",
       "</table>\n",
       "<p>191940 rows × 2 columns</p>\n",
       "</div>"
      ],
      "text/plain": [
       "                  customer  probility\n",
       "0       0030o00002nkSmtAAE   0.003377\n",
       "1       0030o00002nkSmuAAE   0.003377\n",
       "2       0030o00002nkSmuAAE   0.003544\n",
       "3       0030o00002nkSnHAAU   0.003544\n",
       "4       0030o00002nkSnHAAU   0.003664\n",
       "...                    ...        ...\n",
       "357778  0032j00000GjPtaAAF   0.227787\n",
       "357779  0032j00000GjPtaAAF   0.337805\n",
       "357780  0032j00000GjPtaAAF   0.328380\n",
       "357781  0032j00000GjPtaAAF   0.003544\n",
       "357784  0032j00000GjQkDAAV   0.078522\n",
       "\n",
       "[191940 rows x 2 columns]"
      ]
     },
     "execution_count": 39,
     "metadata": {},
     "output_type": "execute_result"
    }
   ],
   "source": [
    "final['probility'] = xgb_model.predict_proba(final[X_train.columns])[:,1]\n",
    "final[['customer', 'probility']].drop_duplicates(subset=None, keep='first', inplace=False) #removing duplicates"
   ]
  }
 ],
 "metadata": {
  "kernelspec": {
   "display_name": "Python 3",
   "language": "python",
   "name": "python3"
  },
  "language_info": {
   "codemirror_mode": {
    "name": "ipython",
    "version": 3
   },
   "file_extension": ".py",
   "mimetype": "text/x-python",
   "name": "python",
   "nbconvert_exporter": "python",
   "pygments_lexer": "ipython3",
   "version": "3.8.5"
  }
 },
 "nbformat": 4,
 "nbformat_minor": 5
}
